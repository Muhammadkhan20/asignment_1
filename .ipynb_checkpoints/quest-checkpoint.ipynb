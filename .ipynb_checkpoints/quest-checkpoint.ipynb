{
 "cells": [
  {
   "cell_type": "markdown",
   "metadata": {},
   "source": [
    "1. A company decided to give bonus of 5% to employee if his/her year of service is more than 5 years. Ask user for their salary and year of\n",
    "service and print the net bonus amount"
   ]
  },
  {
   "cell_type": "code",
   "execution_count": 1,
   "metadata": {
    "scrolled": true
   },
   "outputs": [
    {
     "name": "stdout",
     "output_type": "stream",
     "text": [
      "enter your working years = 5\n",
      "enter your Salary =50000\n",
      "Congrats your bonus is 2500.0\n"
     ]
    }
   ],
   "source": [
    "\n",
    "working_period = int(input('enter your working years ='))\n",
    "salary = int(input('enter your Salary ='))\n",
    "if working_period >= 5:\n",
    "    bonus = (salary/100)*5\n",
    "    print('Congrats your bonus is',bonus )\n",
    "else :\n",
    "    print('this offer is not for you')\n",
    "\n"
   ]
  },
  {
   "cell_type": "markdown",
   "metadata": {},
   "source": [
    "2. Write a program to check whether a person is eligible for voting or not. (accept age from user) if age is greater than 17 eligible otherwise not eligible"
   ]
  },
  {
   "cell_type": "code",
   "execution_count": 1,
   "metadata": {},
   "outputs": [
    {
     "name": "stdout",
     "output_type": "stream",
     "text": [
      "Enter Your Age = 22\n",
      "You are eligble for Voting\n"
     ]
    }
   ],
   "source": [
    "age = int(input(\"Enter Your Age = \"))\n",
    "\n",
    "if age>17 :\n",
    "    print(\"You are eligble for Voting\")\n",
    "    \n",
    "else:\n",
    "    print(\"You are not eligible for Voting\")"
   ]
  },
  {
   "cell_type": "markdown",
   "metadata": {},
   "source": [
    "3. Write a program to check whether a number entered by user is even or odd"
   ]
  },
  {
   "cell_type": "code",
   "execution_count": 2,
   "metadata": {},
   "outputs": [
    {
     "name": "stdout",
     "output_type": "stream",
     "text": [
      "Enter number you want to check 11\n",
      "The number you enter is Odd Numb\n"
     ]
    }
   ],
   "source": [
    "number = int(input(\"Enter number you want to check \"))\n",
    "\n",
    "if number%2 == 0 :\n",
    "    print(\"The number you enter  is Even Number\")\n",
    "    \n",
    "else:\n",
    "    print(\"The number you enter is Odd Numb\")"
   ]
  },
  {
   "cell_type": "markdown",
   "metadata": {},
   "source": [
    "4. Write a program to check whether a number is divisible by 7 or not. Show Answer."
   ]
  },
  {
   "cell_type": "code",
   "execution_count": 3,
   "metadata": {},
   "outputs": [
    {
     "name": "stdout",
     "output_type": "stream",
     "text": [
      "Enter Number you want to check 630\n",
      "Number is Divisible by 7\n"
     ]
    }
   ],
   "source": [
    "number = int(input(\"Enter Number you want to check \"))\n",
    "\n",
    "if number%7 == 0:\n",
    "    print(\"Number is Divisible by 7\")\n",
    "    \n",
    "else:\n",
    "    print(\"Number is not Divisible by 7\")"
   ]
  },
  {
   "cell_type": "markdown",
   "metadata": {},
   "source": [
    "5) Write a program to display \n",
    "\"Hello\" if a number entered by user is a multiple of five , otherwise print \"Bye\"."
   ]
  },
  {
   "cell_type": "code",
   "execution_count": 4,
   "metadata": {},
   "outputs": [
    {
     "name": "stdout",
     "output_type": "stream",
     "text": [
      "Enter Number 150\n",
      "Hello\n"
     ]
    }
   ],
   "source": [
    "number = int(input(\"Enter Number \"))\n",
    "\n",
    "if number%5==0 :\n",
    "    print(\"Hello\")\n",
    "else:\n",
    "    print(\"Bye\")"
   ]
  },
  {
   "cell_type": "markdown",
   "metadata": {},
   "source": [
    "7) Write a program to display the last digit of a number"
   ]
  },
  {
   "cell_type": "code",
   "execution_count": 5,
   "metadata": {},
   "outputs": [
    {
     "name": "stdout",
     "output_type": "stream",
     "text": [
      "Enter a number: 18892\n",
      "The last digit of 18892 is: 2\n"
     ]
    }
   ],
   "source": [
    "number = int(input(\"Enter a number: \"))\n",
    "\n",
    "last_digit = number % 10\n",
    "print(\"The last digit of\", number, \"is:\", last_digit)"
   ]
  },
  {
   "cell_type": "markdown",
   "metadata": {},
   "source": [
    "8. Write a program to check whether the last digit of a number( entered by user ) is divisible by 3 or not."
   ]
  },
  {
   "cell_type": "code",
   "execution_count": 6,
   "metadata": {},
   "outputs": [
    {
     "name": "stdout",
     "output_type": "stream",
     "text": [
      "Enter a number: 573\n",
      "last digit of a number is Divisible by 3\n"
     ]
    }
   ],
   "source": [
    "number = int(input(\"Enter a number: \"))\n",
    "last_digit = number % 10\n",
    "if last_digit % 3 == 0:\n",
    "    print(\"last digit of a number is Divisible by 3\")\n",
    "else:\n",
    "    print(\"last digit of a number is not Divisible by 3\")"
   ]
  },
  {
   "cell_type": "markdown",
   "metadata": {},
   "source": [
    "9) Take values of length and breadth of a rectangle from user and print if it is square or rectangle"
   ]
  },
  {
   "cell_type": "code",
   "execution_count": 12,
   "metadata": {},
   "outputs": [
    {
     "name": "stdout",
     "output_type": "stream",
     "text": [
      "Enter length of the shape = 20\n",
      "Enter breadth of the shape = 20\n",
      "It is a Square\n",
      "And the area of the Square is = 400 Sq foot\n"
     ]
    }
   ],
   "source": [
    "length = int(input(\"Enter length of the shape = \"))\n",
    "breadth = int(input(\"Enter breadth of the shape = \"))\n",
    "\n",
    "\n",
    "if length == breadth :\n",
    "    area = length * breadth\n",
    "    print(\"It is a Square\")\n",
    "    print(\"And the area of the Square is =\", area, \"Sq foot\")\n",
    "\n",
    "else:\n",
    "    area = length * breadth\n",
    "    print(\"It is a Rectangle\")\n",
    "    print(\"The area of Rectangle is = \",area , \"Sq foot\")"
   ]
  },
  {
   "cell_type": "markdown",
   "metadata": {},
   "source": [
    "10) Take two int values from user and print greatest among them."
   ]
  },
  {
   "cell_type": "code",
   "execution_count": 16,
   "metadata": {},
   "outputs": [
    {
     "name": "stdout",
     "output_type": "stream",
     "text": [
      "Enter First Number = 45\n",
      "Enter Second Number = 90\n",
      "The greater number is = 90\n"
     ]
    }
   ],
   "source": [
    "number1 = int(input(\"Enter First Number = \"))\n",
    "number2 = int(input(\"Enter Second Number = \"))\n",
    "\n",
    "greater_number = max(number1, number2)\n",
    "\n",
    "print(\"The greater number is =\",greater_number)\n"
   ]
  },
  {
   "cell_type": "markdown",
   "metadata": {},
   "source": [
    "11) A shop will give discount of 10% if the cost of purchased quantity is more than 1000. Ask user for quantity Suppose, one unit will cost 100.\n",
    "Judge and print total cost for user."
   ]
  },
  {
   "cell_type": "code",
   "execution_count": 19,
   "metadata": {},
   "outputs": [
    {
     "name": "stdout",
     "output_type": "stream",
     "text": [
      "Enter the total purchased items = 3500\n",
      "Congratulation! Your are Eligible for the Discount Offer\n",
      "Your actual cost is =  350000\n",
      "Your Total cost after discount is = 35000.0\n"
     ]
    }
   ],
   "source": [
    "purchased_quantity = int(input(\"Enter the total purchased items = \"))\n",
    "discount = 0.1\n",
    "unit_cost = 100\n",
    "\n",
    "if purchased_quantity >1000 :\n",
    "    print(\"Congratulation! Your are Eligible for the Discount Offer\")\n",
    "    actual_cost = purchased_quantity * unit_cost\n",
    "    print(\"Your actual cost is = \",actual_cost)\n",
    "    total_cost = purchased_quantity * unit_cost * discount\n",
    "    print(\"Your Total cost after discount is =\",total_cost)\n",
    "    \n",
    "else:\n",
    "    print(\"Sorry! Your are Not Eligible for the Discount Offer\")\n",
    "    total_cost =  purchased_quantity * unit_cost \n",
    "    print(\"Your Total cost is = \",total_cost)"
   ]
  },
  {
   "cell_type": "markdown",
   "metadata": {},
   "source": [
    "12) A school has following rules for grading system:\n",
    "a. Below 25 - F\n",
    "b. 25 to 45 - E\n",
    "c. 45 to 50 - D\n",
    "d. 50 to 60 - C\n",
    "e. 60 to 80 - B\n",
    "f. Above 80 - A\n",
    "Ask user to enter marks and print the corresponding grade."
   ]
  },
  {
   "cell_type": "code",
   "execution_count": 20,
   "metadata": {
    "scrolled": true
   },
   "outputs": [
    {
     "name": "stdout",
     "output_type": "stream",
     "text": [
      "Enter Your Marks =90\n",
      "Congratulation! You have Secured A grade\n"
     ]
    }
   ],
   "source": [
    "marks = int(input(\"Enter Your Marks =\"))\n",
    "if marks >= 80:\n",
    "    print(\"Congratulation! You have Secured A grade\")\n",
    "elif marks >= 60:\n",
    "    print(\"You have Secured B Grade\")\n",
    "elif marks >= 50:\n",
    "    print(\"You have Secured C Grade\")\n",
    "elif marks >= 45:\n",
    "    print(\"You have Secured D Grade\")\n",
    "elif marks >= 25:\n",
    "    print(\"You have Secured E Grade\")\n",
    "else:\n",
    "    print(\"You have Secured F Grade, you are Fail\")"
   ]
  },
  {
   "cell_type": "markdown",
   "metadata": {},
   "source": [
    "14)A student will not be allowed to sit in exam if his/her attendence is less than 75%.\n",
    "Take following input from user\n",
    "Number of classes held\n",
    "Number of classes attended.\n",
    "And print\n",
    "percentage of class attended\n",
    "Is student is allowed to sit in exam or not"
   ]
  },
  {
   "cell_type": "code",
   "execution_count": 22,
   "metadata": {},
   "outputs": [
    {
     "name": "stdout",
     "output_type": "stream",
     "text": [
      "Enter Number of classes Held = 25\n",
      "Enter Number of classes Attended = 20\n",
      "Congtatulation! You are allowed to sit in exam\n"
     ]
    }
   ],
   "source": [
    "a = int(input(\"Enter Number of classes Held = \"))\n",
    "b = int(input(\"Enter Number of classes Attended = \"))\n",
    "attendence_percentage = b/a * 100\n",
    "\n",
    "if attendence_percentage >75:\n",
    "    print(\"Congtatulation! You are allowed to sit in exam\")\n",
    "\n",
    "else:\n",
    "    print(\"Sorry! You are not allowed to sit in exam because your attendence percentage is less than 75%\")"
   ]
  },
  {
   "cell_type": "markdown",
   "metadata": {},
   "source": [
    "15) Modify the above question to allow student to sit if he/she has medical cause. Ask user if he/she has medical cause or not ( 'Y' or 'N' ) and\n",
    "print accordingly"
   ]
  },
  {
   "cell_type": "code",
   "execution_count": 24,
   "metadata": {},
   "outputs": [
    {
     "name": "stdout",
     "output_type": "stream",
     "text": [
      "Enter Number of classes Held = 25\n",
      "Enter Number of classes Attended = 15\n",
      "Any Medical Casue or Not = Y\n",
      "You are allowed to sit in exam\n",
      "But you need to show the proof of your medical issue\n"
     ]
    }
   ],
   "source": [
    "a = int(input(\"Enter Number of classes Held = \"))\n",
    "b = int(input(\"Enter Number of classes Attended = \"))\n",
    "attendence_percentage = b/a * 100\n",
    "c = input(\"Any Medical Casue or Not = \")\n",
    "\n",
    "if attendence_percentage > 75:\n",
    "    print(\"Congtatulation! You are allowed to sit in exam\")\n",
    "elif c == \"Y\":\n",
    "    print(\"You are allowed to sit in exam\")\n",
    "    print(\"But you need to show the proof of your medical issue\")\n",
    "else:\n",
    "    print(\"Sorry! You are not allowed to sit in exam because your attendence percentage is less than 75%\")"
   ]
  },
  {
   "cell_type": "markdown",
   "metadata": {},
   "source": [
    "16) Write a program to check if a year is leap year or not.\n",
    "If a year is divisible by 4 then it is leap year but if the year is century year like 2000, 1900, 2100 then it must be divisible by 400."
   ]
  },
  {
   "cell_type": "code",
   "execution_count": 25,
   "metadata": {},
   "outputs": [
    {
     "name": "stdout",
     "output_type": "stream",
     "text": [
      "Enter year = 2024\n",
      "It is leap Year\n",
      "but it is not a century Year\n"
     ]
    }
   ],
   "source": [
    "year = int(input(\"Enter year = \"))\n",
    "\n",
    "if year%4 == 0:\n",
    "    print(\"It is leap Year\")\n",
    "    if year%400 == 0:\n",
    "        print(\"It is a Century Year\")\n",
    "    else:\n",
    "        print(\"but it is not a century Year\")\n",
    "else:\n",
    "    print(\"It is not a Leap year\")"
   ]
  },
  {
   "cell_type": "markdown",
   "metadata": {},
   "source": [
    "17) Ask user to enter age, gender ( M or F ), marital status ( Y or N ) and then using following rules print their place of service.\n",
    "if employee is female, then she will work only in urban areas.\n",
    "if employee is a male and age is in between 20 to 40 then he may work in anywhere\n",
    "if employee is male and age is in between 40 t0 60 then he will work in urban areas only.\n",
    "And any other input of age should print \"ERROR\""
   ]
  },
  {
   "cell_type": "code",
   "execution_count": 27,
   "metadata": {
    "scrolled": true
   },
   "outputs": [
    {
     "name": "stdout",
     "output_type": "stream",
     "text": [
      "Enter your age = 22\n",
      "Enter your Gender = M\n",
      "Enter your Marital Status = N\n",
      "He may work in anywhere\n"
     ]
    }
   ],
   "source": [
    "age = int(input(\"Enter your age = \"))\n",
    "gender = input(\"Enter your Gender = \")\n",
    "marital_status = input(\"Enter your Marital Status = \")\n",
    "\n",
    "\n",
    "if gender == \"F\":\n",
    "    print(\"She will work only in urban areas\")\n",
    "elif gender == \"M\":\n",
    "        if 20 <= age <= 40:\n",
    "            print(\"He may work in anywhere\")\n",
    "        elif 41 <= age <= 60:\n",
    "            print(\"He will work in urban areas only\") \n",
    "        else:\n",
    "            print(\"ERROR: invalid age for males\")\n",
    "else:\n",
    "    print(\"ERROR: inavlid gender\")"
   ]
  },
  {
   "cell_type": "markdown",
   "metadata": {},
   "source": [
    "6) Write a program to calculate the electricity bill (accept number of unit from user) according to the following criteria : Unit Price\n",
    "uptp 100 units no charge Next 200 units Rs 5 per unit After 200 units Rs 10 per unit (For example if input unit is 350 than total bill amount is\n",
    "Rs.3500 (For example if input unit is 97 than total bill amount is Rs.0 (For example if input unit is 150 than total bill amount is Rs.750"
   ]
  },
  {
   "cell_type": "code",
   "execution_count": 6,
   "metadata": {},
   "outputs": [
    {
     "name": "stdout",
     "output_type": "stream",
     "text": [
      "Enter the Total number of units = 400\n",
      "Your Electricity Charges for the Period is = 4000\n"
     ]
    }
   ],
   "source": [
    "units = int(input(\"Enter the Total number of units = \"))\n",
    "if units <= 100:\n",
    "    charges = units * 0\n",
    "    print(\"Your Electricity Charges for the Period is =\",charges)\n",
    "elif 100 <= units <= 200 :\n",
    "    charges = units * 5\n",
    "    print(\"Your Electricity Charges for the Period is =\",charges)\n",
    "elif units > 200 :\n",
    "    charges = units * 10\n",
    "    print(\"Your Electricity Charges for the Period is =\",charges)\n",
    "else:\n",
    "    print(\"Invalid Error\")"
   ]
  },
  {
   "cell_type": "markdown",
   "metadata": {},
   "source": [
    "13) Take input of age of 3 people by user and determine oldest and youngest among them"
   ]
  },
  {
   "cell_type": "code",
   "execution_count": 7,
   "metadata": {},
   "outputs": [
    {
     "name": "stdout",
     "output_type": "stream",
     "text": [
      "Enter age of person 1 : 12\n",
      "Enter age of person 2 : 22\n",
      "Enter age of person 3 : 40\n",
      "Oldest person's age : 40\n",
      "Youngest person's age : 12\n"
     ]
    }
   ],
   "source": [
    "age1 = int(input(\"Enter age of person 1 : \"))\n",
    "age2 = int(input(\"Enter age of person 2 : \"))\n",
    "age3 = int(input(\"Enter age of person 3 : \"))\n",
    "\n",
    "oldest = max(age1, age2, age3)\n",
    "youngest = min(age1, age2, age3)\n",
    "print(\"Oldest person's age :\", oldest)\n",
    "print(\"Youngest person's age :\", youngest)"
   ]
  },
  {
   "cell_type": "code",
   "execution_count": null,
   "metadata": {},
   "outputs": [],
   "source": []
  }
 ],
 "metadata": {
  "kernelspec": {
   "display_name": "Python 3 (ipykernel)",
   "language": "python",
   "name": "python3"
  },
  "language_info": {
   "codemirror_mode": {
    "name": "ipython",
    "version": 3
   },
   "file_extension": ".py",
   "mimetype": "text/x-python",
   "name": "python",
   "nbconvert_exporter": "python",
   "pygments_lexer": "ipython3",
   "version": "3.11.5"
  }
 },
 "nbformat": 4,
 "nbformat_minor": 2
}
